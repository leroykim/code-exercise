{
 "cells": [
  {
   "cell_type": "markdown",
   "id": "bf3699d5",
   "metadata": {},
   "source": [
    "# Reverse A String"
   ]
  },
  {
   "cell_type": "markdown",
   "id": "087cbb56",
   "metadata": {},
   "source": [
    "Create a function that reverses a string\n",
    "\n",
    "For example,\n",
    "\n",
    "'Hi My name is Andrei' should be\n",
    "\n",
    "'ierdnA si eman yM iH'"
   ]
  },
  {
   "cell_type": "code",
   "execution_count": 36,
   "id": "98596a22",
   "metadata": {},
   "outputs": [],
   "source": [
    "# input: string\n",
    "# output: string\n",
    "\n",
    "def reverse(input_str):\n",
    "    # TypeError: 'str' object does not support item assignment\n",
    "    input_str = list(input_str)\n",
    "    \n",
    "    i = 0\n",
    "    j = len(input_str)-1\n",
    "    \n",
    "    while (i < j):\n",
    "        temp_char = input_str[i]\n",
    "        input_str[i] = input_str[j]\n",
    "        input_str[j] = temp_char\n",
    "        i += 1\n",
    "        j -= 1\n",
    "    \n",
    "    return \"\".join(input_str)"
   ]
  },
  {
   "cell_type": "code",
   "execution_count": 39,
   "id": "05146a88",
   "metadata": {},
   "outputs": [
    {
     "name": "stdout",
     "output_type": "stream",
     "text": [
      "edcba\n",
      "edcba\n"
     ]
    }
   ],
   "source": [
    "string1 = 'abcde'\n",
    "string2 = reversed(string1)\n",
    "print(''.join(string2))\n",
    "\n",
    "list1 = list(string1)\n",
    "list1.reverse()\n",
    "print(''.join(list1))"
   ]
  },
  {
   "cell_type": "markdown",
   "id": "db8c36bd",
   "metadata": {},
   "source": [
    "## Test"
   ]
  },
  {
   "cell_type": "code",
   "execution_count": 37,
   "id": "122e096c",
   "metadata": {},
   "outputs": [],
   "source": [
    "test_str = 'Hi My name is Andrei'"
   ]
  },
  {
   "cell_type": "code",
   "execution_count": 38,
   "id": "83ed93b9",
   "metadata": {
    "scrolled": true
   },
   "outputs": [
    {
     "data": {
      "text/plain": [
       "'ierdnA si eman yM iH'"
      ]
     },
     "execution_count": 38,
     "metadata": {},
     "output_type": "execute_result"
    }
   ],
   "source": [
    "reverse(test_str)"
   ]
  },
  {
   "cell_type": "markdown",
   "id": "a8a918df",
   "metadata": {},
   "source": [
    "## Trial and Error"
   ]
  },
  {
   "cell_type": "code",
   "execution_count": 13,
   "id": "8eb85a0e",
   "metadata": {},
   "outputs": [
    {
     "ename": "TypeError",
     "evalue": "'str' object does not support item assignment",
     "output_type": "error",
     "traceback": [
      "\u001b[1;31m---------------------------------------------------------------------------\u001b[0m",
      "\u001b[1;31mTypeError\u001b[0m                                 Traceback (most recent call last)",
      "Input \u001b[1;32mIn [13]\u001b[0m, in \u001b[0;36m<cell line: 1>\u001b[1;34m()\u001b[0m\n\u001b[1;32m----> 1\u001b[0m test_str[\u001b[38;5;241m0\u001b[39m] \u001b[38;5;241m=\u001b[39m \u001b[38;5;124m'\u001b[39m\u001b[38;5;124mN\u001b[39m\u001b[38;5;124m'\u001b[39m\n",
      "\u001b[1;31mTypeError\u001b[0m: 'str' object does not support item assignment"
     ]
    }
   ],
   "source": [
    "test_str[0] = 'N'"
   ]
  },
  {
   "cell_type": "code",
   "execution_count": 16,
   "id": "8b78d6c4",
   "metadata": {
    "scrolled": true
   },
   "outputs": [
    {
     "ename": "ValueError",
     "evalue": "empty separator",
     "output_type": "error",
     "traceback": [
      "\u001b[1;31m---------------------------------------------------------------------------\u001b[0m",
      "\u001b[1;31mValueError\u001b[0m                                Traceback (most recent call last)",
      "Input \u001b[1;32mIn [16]\u001b[0m, in \u001b[0;36m<cell line: 1>\u001b[1;34m()\u001b[0m\n\u001b[1;32m----> 1\u001b[0m \u001b[43mtest_str\u001b[49m\u001b[38;5;241;43m.\u001b[39;49m\u001b[43msplit\u001b[49m\u001b[43m(\u001b[49m\u001b[38;5;124;43m'\u001b[39;49m\u001b[38;5;124;43m'\u001b[39;49m\u001b[43m)\u001b[49m\n",
      "\u001b[1;31mValueError\u001b[0m: empty separator"
     ]
    }
   ],
   "source": [
    "test_str.split('')"
   ]
  },
  {
   "cell_type": "code",
   "execution_count": 17,
   "id": "89b86817",
   "metadata": {},
   "outputs": [],
   "source": [
    "list_str = [char for char in test_str]"
   ]
  },
  {
   "cell_type": "code",
   "execution_count": 18,
   "id": "d255735a",
   "metadata": {},
   "outputs": [
    {
     "data": {
      "text/plain": [
       "['H',\n",
       " 'i',\n",
       " ' ',\n",
       " 'M',\n",
       " 'y',\n",
       " ' ',\n",
       " 'n',\n",
       " 'a',\n",
       " 'm',\n",
       " 'e',\n",
       " ' ',\n",
       " 'i',\n",
       " 's',\n",
       " ' ',\n",
       " 'A',\n",
       " 'n',\n",
       " 'd',\n",
       " 'r',\n",
       " 'e',\n",
       " 'i']"
      ]
     },
     "execution_count": 18,
     "metadata": {},
     "output_type": "execute_result"
    }
   ],
   "source": [
    "list_str"
   ]
  },
  {
   "cell_type": "code",
   "execution_count": 35,
   "id": "c548faa0",
   "metadata": {},
   "outputs": [
    {
     "data": {
      "text/plain": [
       "['H',\n",
       " 'i',\n",
       " ' ',\n",
       " 'M',\n",
       " 'y',\n",
       " ' ',\n",
       " 'n',\n",
       " 'a',\n",
       " 'm',\n",
       " 'e',\n",
       " ' ',\n",
       " 'i',\n",
       " 's',\n",
       " ' ',\n",
       " 'A',\n",
       " 'n',\n",
       " 'd',\n",
       " 'r',\n",
       " 'e',\n",
       " 'i']"
      ]
     },
     "execution_count": 35,
     "metadata": {},
     "output_type": "execute_result"
    }
   ],
   "source": [
    "list(test_str)"
   ]
  },
  {
   "cell_type": "code",
   "execution_count": null,
   "id": "bf4d7047",
   "metadata": {},
   "outputs": [],
   "source": []
  }
 ],
 "metadata": {
  "kernelspec": {
   "display_name": "Python 3 (ipykernel)",
   "language": "python",
   "name": "python3"
  },
  "language_info": {
   "codemirror_mode": {
    "name": "ipython",
    "version": 3
   },
   "file_extension": ".py",
   "mimetype": "text/x-python",
   "name": "python",
   "nbconvert_exporter": "python",
   "pygments_lexer": "ipython3",
   "version": "3.9.12"
  }
 },
 "nbformat": 4,
 "nbformat_minor": 5
}
