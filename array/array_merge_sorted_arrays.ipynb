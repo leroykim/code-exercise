{
 "cells": [
  {
   "cell_type": "markdown",
   "id": "03419a80",
   "metadata": {},
   "source": [
    "# Code"
   ]
  },
  {
   "cell_type": "markdown",
   "id": "cccefcd7",
   "metadata": {},
   "source": [
    "## Mine"
   ]
  },
  {
   "cell_type": "code",
   "execution_count": 19,
   "id": "f7e7c155",
   "metadata": {},
   "outputs": [],
   "source": [
    "# mergeSortedArrays([0,3,4,31], [4,6,30])\n",
    "# [0, 3, 4, 4, 6, 30, 31]\n",
    "\n",
    "# Naive solution: one-by-one comparison.\n",
    "def mergeSortedArrays (arr_1, arr_2):\n",
    "    merged_array = []\n",
    "    arr_1_last = len(arr_1) - 1\n",
    "    arr_2_last = len(arr_2) - 1 \n",
    "    \n",
    "    # One-by-one comparison until one of the arrays gets exhausted.\n",
    "    i = 0\n",
    "    j = 0\n",
    "    while (i <= arr_1_last and j <= arr_2_last):\n",
    "        if (arr_1[i] <= arr_2[j]):\n",
    "            merged_array.append(arr_1[i])\n",
    "            i += 1\n",
    "        else:\n",
    "            merged_array.append(arr_2[j])\n",
    "            j += 1\n",
    "    \n",
    "    # Extend remaining elements in the un-exhausted list.\n",
    "    if (i <= arr_1_last):\n",
    "        merged_array.extend(arr_1[i:])\n",
    "    elif (j <= arr_2_last):\n",
    "        merged_array.extend(arr_2[j:])\n",
    "        \n",
    "    return merged_array"
   ]
  },
  {
   "cell_type": "markdown",
   "id": "207d8b4e",
   "metadata": {},
   "source": [
    "## Improved"
   ]
  },
  {
   "cell_type": "code",
   "execution_count": 22,
   "id": "2d2dbe91",
   "metadata": {},
   "outputs": [],
   "source": [
    "def mergeSortedArrays (arr_1, arr_2):\n",
    "    # Input check\n",
    "    if (len(arr_1) == 0):\n",
    "        return arr_2\n",
    "    elif (len(arr_2) == 0):\n",
    "        return arr_1\n",
    "    elif (len(arr_1) == 0 and len(arr_2) == 0):\n",
    "        return []\n",
    "    \n",
    "    merged_array = []\n",
    "    arr_1_last = len(arr_1) - 1\n",
    "    arr_2_last = len(arr_2) - 1 \n",
    "    \n",
    "    # One-by-one comparison until one of the arrays gets exhausted.\n",
    "    i = 0\n",
    "    j = 0\n",
    "    while (i <= arr_1_last and j <= arr_2_last):\n",
    "        if (arr_1[i] <= arr_2[j]):\n",
    "            merged_array.append(arr_1[i])\n",
    "            i += 1\n",
    "        else:\n",
    "            merged_array.append(arr_2[j])\n",
    "            j += 1\n",
    "    \n",
    "    # Extend remaining elements in the un-exhausted list.\n",
    "    if (i <= arr_1_last):\n",
    "        merged_array.extend(arr_1[i:])\n",
    "    elif (j <= arr_2_last):\n",
    "        merged_array.extend(arr_2[j:])\n",
    "        \n",
    "    return merged_array"
   ]
  },
  {
   "cell_type": "markdown",
   "id": "0f0c49d5",
   "metadata": {},
   "source": [
    "# Test"
   ]
  },
  {
   "cell_type": "code",
   "execution_count": 23,
   "id": "0ecf6b0e",
   "metadata": {},
   "outputs": [],
   "source": [
    "arr_1 = [0,3,4,31]\n",
    "arr_2 = [4,6,30]\n",
    "answer = [0, 3, 4, 4, 6, 30, 31]"
   ]
  },
  {
   "cell_type": "code",
   "execution_count": 24,
   "id": "1ae5614e",
   "metadata": {
    "scrolled": true
   },
   "outputs": [
    {
     "data": {
      "text/plain": [
       "[0, 3, 4, 4, 6, 30, 31]"
      ]
     },
     "execution_count": 24,
     "metadata": {},
     "output_type": "execute_result"
    }
   ],
   "source": [
    "mergeSortedArrays(arr_1, arr_2)"
   ]
  },
  {
   "cell_type": "code",
   "execution_count": 25,
   "id": "7759f506",
   "metadata": {},
   "outputs": [],
   "source": [
    "arr_1 = []\n",
    "arr_2 = [4,6,30]"
   ]
  },
  {
   "cell_type": "code",
   "execution_count": 26,
   "id": "dbe63a46",
   "metadata": {},
   "outputs": [
    {
     "data": {
      "text/plain": [
       "[4, 6, 30]"
      ]
     },
     "execution_count": 26,
     "metadata": {},
     "output_type": "execute_result"
    }
   ],
   "source": [
    "mergeSortedArrays(arr_1, arr_2)"
   ]
  },
  {
   "cell_type": "code",
   "execution_count": 27,
   "id": "6b21e17d",
   "metadata": {},
   "outputs": [],
   "source": [
    "arr_1 = [0,3,4,31]\n",
    "arr_2 = []"
   ]
  },
  {
   "cell_type": "code",
   "execution_count": 28,
   "id": "24081762",
   "metadata": {},
   "outputs": [
    {
     "data": {
      "text/plain": [
       "[0, 3, 4, 31]"
      ]
     },
     "execution_count": 28,
     "metadata": {},
     "output_type": "execute_result"
    }
   ],
   "source": [
    "mergeSortedArrays(arr_1, arr_2)"
   ]
  },
  {
   "cell_type": "code",
   "execution_count": 29,
   "id": "3d567210",
   "metadata": {},
   "outputs": [],
   "source": [
    "arr_1 = []\n",
    "arr_2 = []"
   ]
  },
  {
   "cell_type": "code",
   "execution_count": 30,
   "id": "4c6e53e3",
   "metadata": {},
   "outputs": [
    {
     "data": {
      "text/plain": [
       "[]"
      ]
     },
     "execution_count": 30,
     "metadata": {},
     "output_type": "execute_result"
    }
   ],
   "source": [
    "mergeSortedArrays(arr_1, arr_2)"
   ]
  }
 ],
 "metadata": {
  "kernelspec": {
   "display_name": "Python 3 (ipykernel)",
   "language": "python",
   "name": "python3"
  },
  "language_info": {
   "codemirror_mode": {
    "name": "ipython",
    "version": 3
   },
   "file_extension": ".py",
   "mimetype": "text/x-python",
   "name": "python",
   "nbconvert_exporter": "python",
   "pygments_lexer": "ipython3",
   "version": "3.9.12"
  }
 },
 "nbformat": 4,
 "nbformat_minor": 5
}
