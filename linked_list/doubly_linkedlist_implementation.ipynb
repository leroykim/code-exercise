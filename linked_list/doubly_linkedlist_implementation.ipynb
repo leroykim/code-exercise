{
 "cells": [
  {
   "cell_type": "code",
   "execution_count": 2,
   "id": "da70a4f8",
   "metadata": {},
   "outputs": [],
   "source": [
    "class Node():\n",
    "    def __init__(self, data):\n",
    "        self.data = data\n",
    "        self.next = None\n",
    "        self.prev = None"
   ]
  },
  {
   "cell_type": "code",
   "execution_count": 86,
   "id": "31a76863",
   "metadata": {},
   "outputs": [],
   "source": [
    "class DoublyLinkedList():\n",
    "    '''\n",
    "    - constructor\n",
    "    - print_list\n",
    "    - append\n",
    "    - prepend\n",
    "    - insert\n",
    "    - delete_by_value\n",
    "    - delete_by_position\n",
    "    - reverse\n",
    "    '''\n",
    "    def __init__(self):\n",
    "        self.head = None\n",
    "        self.tail = self.head\n",
    "        self.length = 0\n",
    "        \n",
    "    def print_list(self):\n",
    "        elements = []\n",
    "        if self.head is None:\n",
    "            print(\"Empty.\")\n",
    "            return\n",
    "        current_node = self.head\n",
    "        while current_node is not None:\n",
    "            elements.append(str(current_node.data))\n",
    "            current_node = current_node.next\n",
    "        print(f\"{' <-> '.join(elements)}\")\n",
    "        return\n",
    "    \n",
    "    def append(self, data):\n",
    "        new_node = Node(data)\n",
    "        if self.head is None:\n",
    "            self.head = new_node\n",
    "            self.tail = self.head\n",
    "        else:\n",
    "            self.tail.next = new_node\n",
    "            new_node.prev = self.tail\n",
    "            self.tail = new_node\n",
    "        self.length += 1\n",
    "        return\n",
    "    \n",
    "    def prepend(self, data):\n",
    "        if self.head is None:\n",
    "            self.append(data)\n",
    "            # append method will take care of self.length\n",
    "        else:\n",
    "            new_node = Node(data)\n",
    "            new_node.next = self.head\n",
    "            self.head.prev = new_node            \n",
    "            self.head = new_node\n",
    "            self.length += 1\n",
    "    \n",
    "    def insert(self, position, data):\n",
    "        if position > self.length:\n",
    "            print(\"Invalid position.\")\n",
    "            return\n",
    "        \n",
    "        if position == 0:\n",
    "            self.prepend(data)\n",
    "        elif position == self.length:\n",
    "            self.append(data)\n",
    "        else:\n",
    "            new_node = Node(data)\n",
    "            current_node = self.head\n",
    "            for i in range(position-1):\n",
    "                current_node = current_node.next\n",
    "            new_node.next = current_node.next\n",
    "            new_node.prev = current_node\n",
    "            current_node.next.prev = new_node\n",
    "            current_node.next = new_node\n",
    "            self.length += 1\n",
    "        return\n",
    "    \n",
    "    def remove_by_value(self, value):\n",
    "        '''\n",
    "        Three cases:\n",
    "        - The linked list is empty.\n",
    "        - The linked list has only one element and it matches the value.\n",
    "        - Other.\n",
    "        '''\n",
    "        # Case 1\n",
    "        if self.head is None:\n",
    "            print(\"The linked list is empty.\")\n",
    "            return\n",
    "        \n",
    "        current_node = self.head\n",
    "        # Case 2\n",
    "        if current_node.data == value:\n",
    "            self.head = current_node.next\n",
    "            if self.head is None or self.head.next is None:\n",
    "                self.tail = self.head\n",
    "            if self.head is not None:\n",
    "                self.head.previous = None\n",
    "            self.length -= 1\n",
    "            return\n",
    "        # Case 3\n",
    "        while current_node.next is not None and current_node.next.data != value:\n",
    "            current_node = current_node.next\n",
    "        \n",
    "        if current_node.next is None:\n",
    "            print(f\"The value {value} not found.\")\n",
    "            return\n",
    "        else:\n",
    "            current_node.next = current_node.next.next\n",
    "            ##### TAKE CARE OF THE TAIL NODE! #####\n",
    "            if current_node.next is None:\n",
    "                self.tail = current_node\n",
    "            if current_node.next is not None:\n",
    "                current_node.next.prev = current_node\n",
    "            self.length -= 1\n",
    "            return\n",
    "    \n",
    "    def remove_by_position(self, position):\n",
    "        '''\n",
    "        Cases:\n",
    "        - The linked list is empty.\n",
    "        - Valid position\n",
    "        - Invalid position\n",
    "        '''\n",
    "        if self.head is None:\n",
    "            print(\"The linked list is empty.\")\n",
    "            return\n",
    "        \n",
    "        if position >= self.length:\n",
    "            print(\"Invalid position: position is larger than last index of the linked list.\")\n",
    "            return\n",
    "        \n",
    "        current_node = self.head\n",
    "        if position == 0:\n",
    "            self.head = current_node.next\n",
    "            if self.head is None or self.head.next is None:\n",
    "                self.tail = self.head\n",
    "            if self.head.next is not None:\n",
    "                self.head.previous = None\n",
    "            self.length -= 1\n",
    "            return\n",
    "        \n",
    "        current_node = self.head\n",
    "        for i in range(position-1):\n",
    "            current_node = current_node.next\n",
    "        current_node.next = current_node.next.next\n",
    "        if current_node.next is None:\n",
    "            self.tail = current_node\n",
    "        else:\n",
    "            current_node.next.prev = current_node\n",
    "        self.length -= 1\n",
    "        return"
   ]
  },
  {
   "cell_type": "markdown",
   "id": "5e21bc1c",
   "metadata": {},
   "source": [
    "### What I missed\n",
    "1. Case 1: The linked list is empty.\n",
    "2. Take care of the tail when the last node is removed."
   ]
  },
  {
   "cell_type": "code",
   "execution_count": 87,
   "id": "e9b30975",
   "metadata": {},
   "outputs": [],
   "source": [
    "linked_list = DoublyLinkedList()"
   ]
  },
  {
   "cell_type": "code",
   "execution_count": 88,
   "id": "6eee39d4",
   "metadata": {},
   "outputs": [
    {
     "name": "stdout",
     "output_type": "stream",
     "text": [
      "Empty.\n"
     ]
    }
   ],
   "source": [
    "linked_list.print_list()"
   ]
  },
  {
   "cell_type": "code",
   "execution_count": 89,
   "id": "06443f92",
   "metadata": {},
   "outputs": [
    {
     "name": "stdout",
     "output_type": "stream",
     "text": [
      "The linked list is empty.\n"
     ]
    }
   ],
   "source": [
    "linked_list.remove_by_value(1)"
   ]
  },
  {
   "cell_type": "code",
   "execution_count": 90,
   "id": "fdbf0d76",
   "metadata": {},
   "outputs": [],
   "source": [
    "linked_list.append(1)\n",
    "linked_list.append(2)\n",
    "linked_list.append(3)\n",
    "linked_list.append(4)\n",
    "linked_list.append(5)"
   ]
  },
  {
   "cell_type": "code",
   "execution_count": 91,
   "id": "1962baba",
   "metadata": {
    "scrolled": true
   },
   "outputs": [
    {
     "name": "stdout",
     "output_type": "stream",
     "text": [
      "1 <-> 2 <-> 3 <-> 4 <-> 5\n",
      "5\n"
     ]
    }
   ],
   "source": [
    "linked_list.print_list()\n",
    "print(linked_list.length)"
   ]
  },
  {
   "cell_type": "code",
   "execution_count": 92,
   "id": "eada8a86",
   "metadata": {},
   "outputs": [],
   "source": [
    "linked_list.prepend(0)"
   ]
  },
  {
   "cell_type": "code",
   "execution_count": 93,
   "id": "13c42881",
   "metadata": {
    "scrolled": true
   },
   "outputs": [
    {
     "name": "stdout",
     "output_type": "stream",
     "text": [
      "0 <-> 1 <-> 2 <-> 3 <-> 4 <-> 5\n",
      "6\n"
     ]
    }
   ],
   "source": [
    "linked_list.print_list()\n",
    "print(linked_list.length)"
   ]
  },
  {
   "cell_type": "code",
   "execution_count": 94,
   "id": "95e0301f",
   "metadata": {},
   "outputs": [
    {
     "name": "stdout",
     "output_type": "stream",
     "text": [
      "Invalid position.\n"
     ]
    }
   ],
   "source": [
    "linked_list.insert(7, 7)"
   ]
  },
  {
   "cell_type": "code",
   "execution_count": 95,
   "id": "e86298ca",
   "metadata": {},
   "outputs": [],
   "source": [
    "linked_list.insert(6,6)"
   ]
  },
  {
   "cell_type": "code",
   "execution_count": 96,
   "id": "00f7120e",
   "metadata": {
    "scrolled": true
   },
   "outputs": [
    {
     "name": "stdout",
     "output_type": "stream",
     "text": [
      "0 <-> 1 <-> 2 <-> 3 <-> 4 <-> 5 <-> 6\n",
      "7\n"
     ]
    }
   ],
   "source": [
    "linked_list.print_list()\n",
    "print(linked_list.length)"
   ]
  },
  {
   "cell_type": "code",
   "execution_count": 97,
   "id": "aec68007",
   "metadata": {},
   "outputs": [],
   "source": [
    "linked_list.insert(4,77)"
   ]
  },
  {
   "cell_type": "code",
   "execution_count": 98,
   "id": "62ed4f81",
   "metadata": {
    "scrolled": true
   },
   "outputs": [
    {
     "name": "stdout",
     "output_type": "stream",
     "text": [
      "0 <-> 1 <-> 2 <-> 3 <-> 77 <-> 4 <-> 5 <-> 6\n",
      "8\n"
     ]
    }
   ],
   "source": [
    "linked_list.print_list()\n",
    "print(linked_list.length)"
   ]
  },
  {
   "cell_type": "code",
   "execution_count": 99,
   "id": "b5dd91fe",
   "metadata": {},
   "outputs": [],
   "source": [
    "linked_list.remove_by_value(0)"
   ]
  },
  {
   "cell_type": "code",
   "execution_count": 100,
   "id": "2a4722f6",
   "metadata": {
    "scrolled": false
   },
   "outputs": [
    {
     "name": "stdout",
     "output_type": "stream",
     "text": [
      "1 <-> 2 <-> 3 <-> 77 <-> 4 <-> 5 <-> 6\n",
      "7\n"
     ]
    }
   ],
   "source": [
    "linked_list.print_list()\n",
    "print(linked_list.length)"
   ]
  },
  {
   "cell_type": "code",
   "execution_count": 101,
   "id": "b02617d8",
   "metadata": {},
   "outputs": [],
   "source": [
    "linked_list.remove_by_value(77)"
   ]
  },
  {
   "cell_type": "code",
   "execution_count": 102,
   "id": "211dc4e1",
   "metadata": {
    "scrolled": false
   },
   "outputs": [
    {
     "name": "stdout",
     "output_type": "stream",
     "text": [
      "1 <-> 2 <-> 3 <-> 4 <-> 5 <-> 6\n",
      "6\n"
     ]
    }
   ],
   "source": [
    "linked_list.print_list()\n",
    "print(linked_list.length)"
   ]
  },
  {
   "cell_type": "code",
   "execution_count": 103,
   "id": "04ec9fba",
   "metadata": {},
   "outputs": [],
   "source": [
    "linked_list.remove_by_value(6)"
   ]
  },
  {
   "cell_type": "code",
   "execution_count": 104,
   "id": "1fe4f105",
   "metadata": {
    "scrolled": false
   },
   "outputs": [
    {
     "name": "stdout",
     "output_type": "stream",
     "text": [
      "1 <-> 2 <-> 3 <-> 4 <-> 5\n",
      "5\n"
     ]
    }
   ],
   "source": [
    "linked_list.print_list()\n",
    "print(linked_list.length)"
   ]
  },
  {
   "cell_type": "code",
   "execution_count": 105,
   "id": "4647db2c",
   "metadata": {},
   "outputs": [
    {
     "name": "stdout",
     "output_type": "stream",
     "text": [
      "5\n"
     ]
    }
   ],
   "source": [
    "print(linked_list.tail.data)"
   ]
  },
  {
   "cell_type": "code",
   "execution_count": 106,
   "id": "7a6e1aef",
   "metadata": {},
   "outputs": [],
   "source": [
    "linked_list.remove_by_position(0)"
   ]
  },
  {
   "cell_type": "code",
   "execution_count": 107,
   "id": "63d11329",
   "metadata": {
    "scrolled": false
   },
   "outputs": [
    {
     "name": "stdout",
     "output_type": "stream",
     "text": [
      "2 <-> 3 <-> 4 <-> 5\n",
      "4\n"
     ]
    }
   ],
   "source": [
    "linked_list.print_list()\n",
    "print(linked_list.length)"
   ]
  },
  {
   "cell_type": "code",
   "execution_count": 108,
   "id": "e80bd48a",
   "metadata": {},
   "outputs": [],
   "source": [
    "linked_list.remove_by_position(2)"
   ]
  },
  {
   "cell_type": "code",
   "execution_count": 109,
   "id": "08ad9aa5",
   "metadata": {
    "scrolled": false
   },
   "outputs": [
    {
     "name": "stdout",
     "output_type": "stream",
     "text": [
      "2 <-> 3 <-> 5\n",
      "3\n"
     ]
    }
   ],
   "source": [
    "linked_list.print_list()\n",
    "print(linked_list.length)"
   ]
  },
  {
   "cell_type": "code",
   "execution_count": 110,
   "id": "5b8da5c1",
   "metadata": {},
   "outputs": [],
   "source": [
    "linked_list.remove_by_position(2)"
   ]
  },
  {
   "cell_type": "code",
   "execution_count": 111,
   "id": "92515559",
   "metadata": {
    "scrolled": false
   },
   "outputs": [
    {
     "name": "stdout",
     "output_type": "stream",
     "text": [
      "2 <-> 3\n",
      "2\n"
     ]
    }
   ],
   "source": [
    "linked_list.print_list()\n",
    "print(linked_list.length)"
   ]
  },
  {
   "cell_type": "code",
   "execution_count": 112,
   "id": "7f35f342",
   "metadata": {},
   "outputs": [
    {
     "name": "stdout",
     "output_type": "stream",
     "text": [
      "3\n"
     ]
    }
   ],
   "source": [
    "print(linked_list.tail.data)"
   ]
  }
 ],
 "metadata": {
  "kernelspec": {
   "display_name": "Python 3 (ipykernel)",
   "language": "python",
   "name": "python3"
  },
  "language_info": {
   "codemirror_mode": {
    "name": "ipython",
    "version": 3
   },
   "file_extension": ".py",
   "mimetype": "text/x-python",
   "name": "python",
   "nbconvert_exporter": "python",
   "pygments_lexer": "ipython3",
   "version": "3.9.12"
  }
 },
 "nbformat": 4,
 "nbformat_minor": 5
}
