{
 "cells": [
  {
   "cell_type": "code",
   "execution_count": 1,
   "id": "9f5cb468",
   "metadata": {},
   "outputs": [],
   "source": [
    "class Node():\n",
    "    def __init__(self, data):\n",
    "        self.data = data\n",
    "        self.next = None"
   ]
  },
  {
   "cell_type": "code",
   "execution_count": 74,
   "id": "1d01a085",
   "metadata": {},
   "outputs": [],
   "source": [
    "class Stack():\n",
    "    '''\n",
    "    Use linked list for the implementation.\n",
    "    - [x] peek\n",
    "    - [x] push\n",
    "    - [x] pop\n",
    "    - [x] print_stack\n",
    "    - [ ] is_empty\n",
    "    '''\n",
    "    def __init__(self):\n",
    "        self.top = None\n",
    "        self.bottom = None\n",
    "        self.length = 0\n",
    "    \n",
    "    def print_stack(self):\n",
    "        elements = []\n",
    "        if self.top is None:\n",
    "            print(\"Empty.\")\n",
    "            return\n",
    "        current_node = self.top\n",
    "        while current_node is not None:\n",
    "            elements.append(str(current_node.data))\n",
    "            current_node = current_node.next\n",
    "        stack_string = '\\n--\\n'.join(elements)\n",
    "        print(\"(Top)\")\n",
    "        print(stack_string)\n",
    "        print(\"(Bottom)\")\n",
    "        return\n",
    "    \n",
    "    def peek(self):\n",
    "        if self.top is None:\n",
    "            print(\"Empty.\")\n",
    "            return\n",
    "        return self.top.data\n",
    "    \n",
    "    def push(self, data):\n",
    "        '''\n",
    "        Two cases:\n",
    "        - When the stack is empty.\n",
    "        - When the stack is not empty.\n",
    "        Cautions:\n",
    "        - Should take care of the top.\n",
    "        '''\n",
    "        new_node = Node(data)\n",
    "        if self.top is None:\n",
    "            self.top = new_node\n",
    "            self.bottom = self.top\n",
    "            self.length = 1\n",
    "        else:\n",
    "            new_node.next = self.top\n",
    "            self.top = new_node\n",
    "            self.length += 1\n",
    "            \n",
    "    def pop(self):\n",
    "        '''\n",
    "        Two cases:\n",
    "        - When the stack is empty.\n",
    "        - When the stack is not empty.\n",
    "        Cautions:\n",
    "        - Take care of the case when the stack becomes empty.\n",
    "        '''\n",
    "        if self.top is None:\n",
    "            print(\"The stack is empty.\")\n",
    "        else:\n",
    "            node_to_pop = self.top\n",
    "            self.top = node_to_pop.next\n",
    "            if self.top is None:\n",
    "                self.bottom = self.top\n",
    "            self.length -= 1\n",
    "            return node_to_pop.data"
   ]
  },
  {
   "cell_type": "code",
   "execution_count": 75,
   "id": "a431b3a6",
   "metadata": {},
   "outputs": [],
   "source": [
    "stack = Stack()"
   ]
  },
  {
   "cell_type": "code",
   "execution_count": 76,
   "id": "00f9d045",
   "metadata": {},
   "outputs": [],
   "source": [
    "for i in range(7):\n",
    "    stack.push(i)"
   ]
  },
  {
   "cell_type": "code",
   "execution_count": 77,
   "id": "1180ed6d",
   "metadata": {
    "scrolled": true
   },
   "outputs": [
    {
     "name": "stdout",
     "output_type": "stream",
     "text": [
      "(Top)\n",
      "6\n",
      "--\n",
      "5\n",
      "--\n",
      "4\n",
      "--\n",
      "3\n",
      "--\n",
      "2\n",
      "--\n",
      "1\n",
      "--\n",
      "0\n",
      "(Bottom)\n"
     ]
    }
   ],
   "source": [
    "stack.print_stack()"
   ]
  },
  {
   "cell_type": "code",
   "execution_count": 78,
   "id": "46edc187",
   "metadata": {},
   "outputs": [
    {
     "name": "stdout",
     "output_type": "stream",
     "text": [
      "6\n"
     ]
    }
   ],
   "source": [
    "stack.peek()"
   ]
  },
  {
   "cell_type": "code",
   "execution_count": 79,
   "id": "2f76b1ee",
   "metadata": {},
   "outputs": [
    {
     "name": "stdout",
     "output_type": "stream",
     "text": [
      "6 popped.\n",
      "5 popped.\n",
      "4 popped.\n",
      "3 popped.\n",
      "2 popped.\n",
      "1 popped.\n"
     ]
    }
   ],
   "source": [
    "for i in range(6):\n",
    "    print(f\"{stack.pop()} popped.\")"
   ]
  },
  {
   "cell_type": "code",
   "execution_count": 80,
   "id": "26c75166",
   "metadata": {},
   "outputs": [
    {
     "name": "stdout",
     "output_type": "stream",
     "text": [
      "(Top)\n",
      "0\n",
      "(Bottom)\n"
     ]
    }
   ],
   "source": [
    "stack.print_stack()"
   ]
  },
  {
   "cell_type": "code",
   "execution_count": 81,
   "id": "798648b9",
   "metadata": {},
   "outputs": [
    {
     "name": "stdout",
     "output_type": "stream",
     "text": [
      "0\n",
      "0\n"
     ]
    }
   ],
   "source": [
    "print(stack.top.data)\n",
    "print(stack.bottom.data)"
   ]
  },
  {
   "cell_type": "code",
   "execution_count": 82,
   "id": "374f9c02",
   "metadata": {},
   "outputs": [
    {
     "data": {
      "text/plain": [
       "0"
      ]
     },
     "execution_count": 82,
     "metadata": {},
     "output_type": "execute_result"
    }
   ],
   "source": [
    "stack.pop()"
   ]
  },
  {
   "cell_type": "code",
   "execution_count": 83,
   "id": "f8031443",
   "metadata": {},
   "outputs": [
    {
     "name": "stdout",
     "output_type": "stream",
     "text": [
      "None\n",
      "None\n"
     ]
    }
   ],
   "source": [
    "print(stack.top)\n",
    "print(stack.bottom)"
   ]
  },
  {
   "cell_type": "code",
   "execution_count": null,
   "id": "64e50e5c",
   "metadata": {},
   "outputs": [],
   "source": []
  }
 ],
 "metadata": {
  "kernelspec": {
   "display_name": "Python 3",
   "language": "python",
   "name": "python3"
  },
  "language_info": {
   "codemirror_mode": {
    "name": "ipython",
    "version": 3
   },
   "file_extension": ".py",
   "mimetype": "text/x-python",
   "name": "python",
   "nbconvert_exporter": "python",
   "pygments_lexer": "ipython3",
   "version": "3.8.8"
  }
 },
 "nbformat": 4,
 "nbformat_minor": 5
}
