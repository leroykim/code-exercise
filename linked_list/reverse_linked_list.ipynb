{
 "cells": [
  {
   "cell_type": "markdown",
   "id": "48b173bf",
   "metadata": {},
   "source": [
    "# Note\n",
    "I think I should be familiar with the Python pass by reference and pass by value in Python."
   ]
  },
  {
   "cell_type": "code",
   "execution_count": 1,
   "id": "6a80e958",
   "metadata": {},
   "outputs": [],
   "source": [
    "class Node():\n",
    "    def __init__(self, data):\n",
    "        self.data = data\n",
    "        self.next = None"
   ]
  },
  {
   "cell_type": "code",
   "execution_count": 7,
   "id": "9ff8ec5e",
   "metadata": {},
   "outputs": [],
   "source": [
    "class LinkedList:\n",
    "    def __init__(self):\n",
    "        self.head = None\n",
    "        self.tail = self.head\n",
    "        self.length = 0\n",
    "\n",
    "    def append(self, data):\n",
    "        new_node = Node(data)\n",
    "        # It’s a good practice to use the is or is not operator to compare a value with None.\n",
    "        if self.head is None:\n",
    "            self.head = new_node\n",
    "            self.tail = self.head\n",
    "            self.length += 1\n",
    "        else:\n",
    "            self.tail.next = new_node\n",
    "            self.tail = new_node\n",
    "            self.length += 1\n",
    "\n",
    "    def prepend(self, data):\n",
    "        new_node = Node(data)\n",
    "        if self.head is None:\n",
    "            self.head = new_node\n",
    "            self.tail = self.head\n",
    "            self.length += 1\n",
    "        else:\n",
    "            new_node.next = self.head\n",
    "            self.head = new_node\n",
    "            self.length += 1\n",
    "\n",
    "    def print_list(self):\n",
    "        if self.head is None:\n",
    "            print(\"Empty\")\n",
    "        else:\n",
    "            current_node = self.head\n",
    "            while current_node is not None:\n",
    "                print(current_node.data, end=\" \")\n",
    "                current_node = current_node.next\n",
    "        print()\n",
    "\n",
    "    def insert(self, position, data):\n",
    "        if position > self.length:\n",
    "            print(\"This position is not available\")\n",
    "        elif position == self.length:\n",
    "            new_node = Node(data)\n",
    "            self.tail.next = new_node\n",
    "            self.tail = new_node\n",
    "            self.length += 1\n",
    "        elif position == 0:\n",
    "            self.prepend(data)\n",
    "        else:\n",
    "            new_node = Node(data)\n",
    "            prev_node = self.head\n",
    "            for i in range(1, position):\n",
    "                prev_node = prev_node.next\n",
    "            new_node.next = prev_node.next\n",
    "            prev_node.next = new_node\n",
    "            self.length += 1\n",
    "\n",
    "    def delete_by_value(self, value):\n",
    "        if self.head is None:\n",
    "            print(\"It's already an empty linked list!\")\n",
    "            return\n",
    "\n",
    "            # There should be three cases:\n",
    "            # 1. When linked list is empty or has only one node after deletion.\n",
    "            # 2. When linked list has more than one nodes after deletion.\n",
    "        current_node = self.head\n",
    "        if current_node.data == value:\n",
    "            self.head = current_node.next\n",
    "            # case 1\n",
    "            if self.head is None or self.head.next is None:\n",
    "                self.tail = self.head\n",
    "            # In case 2, there should be no other action needed for the tail.\n",
    "            self.length -= 1\n",
    "            return\n",
    "\n",
    "        while current_node.next is not None and current_node.next.data != value:\n",
    "            current_node = current_node.next\n",
    "\n",
    "        if current_node.next is None:\n",
    "            print(f\"Given value {value} not found.\")\n",
    "            return\n",
    "        else:\n",
    "            # So we make the 'next' of the current node point to the next to the next of the current node.\n",
    "            # Effectively, we bypass the node we want deleted and establish a connection between the current\n",
    "            # and the next to next of the current nodes.\n",
    "            current_node.next = current_node.next.next\n",
    "\n",
    "            if current_node.next is None:\n",
    "                # After deleting the required node, we check if the current node's 'next' points to None, i.e.,\n",
    "                # if it is the last node. If yes, then we update the tail\n",
    "                self.tail = current_node\n",
    "            self.length -= 1\n",
    "            return\n",
    "\n",
    "    # Time complexity is pretty clearly O(n)\n",
    "\n",
    "    def delete_by_position(self, position):\n",
    "        if self.head is None:\n",
    "            print(\"The linked list is empty.\")\n",
    "            return\n",
    "\n",
    "        if position == 0:\n",
    "            self.head = self.head.next\n",
    "            if self.head is None or self.head.next is None:\n",
    "                self.tail = self.head\n",
    "            self.length -= 1\n",
    "            return\n",
    "\n",
    "        if position >= self.length:\n",
    "            position = self.length - 1\n",
    "\n",
    "        current_node = self.head\n",
    "        for i in range(position - 1):\n",
    "            current_node = current_node.next\n",
    "        current_node.next = current_node.next.next\n",
    "        self.length -= 1\n",
    "\n",
    "        if current_node.next == None:\n",
    "            self.tail = current_node\n",
    "        return\n",
    "    \n",
    "    def reverse(self):\n",
    "        '''\n",
    "        Three cases:\n",
    "        1. Empty linked list.\n",
    "        2. Linked list with one node.\n",
    "        3. Others.\n",
    "        '''\n",
    "        # Case 1 & 2\n",
    "        if self.length <= 1:\n",
    "            return\n",
    "        \n",
    "        current_node = self.head\n",
    "        next_node = current_node.next\n",
    "        while next_node is not None:\n",
    "            temp = next_node.next\n",
    "            next_node.next = current_node\n",
    "            current_node = next_node\n",
    "            next_node = temp\n",
    "            \n",
    "        temp = self.head\n",
    "        self.head = self.tail\n",
    "        self.tail = temp\n",
    "        self.tail.next = None\n",
    "        return"
   ]
  },
  {
   "cell_type": "code",
   "execution_count": 8,
   "id": "f4bd5932",
   "metadata": {},
   "outputs": [],
   "source": [
    "linked_list = LinkedList()"
   ]
  },
  {
   "cell_type": "code",
   "execution_count": 9,
   "id": "d89e4ed2",
   "metadata": {},
   "outputs": [
    {
     "name": "stdout",
     "output_type": "stream",
     "text": [
      "0 1 2 3 4 5 \n"
     ]
    }
   ],
   "source": [
    "linked_list.append(0)\n",
    "linked_list.append(1)\n",
    "linked_list.append(2)\n",
    "linked_list.append(3)\n",
    "linked_list.append(4)\n",
    "linked_list.append(5)\n",
    "linked_list.print_list()"
   ]
  },
  {
   "cell_type": "code",
   "execution_count": 10,
   "id": "6f0f5c9a",
   "metadata": {},
   "outputs": [
    {
     "name": "stdout",
     "output_type": "stream",
     "text": [
      "6\n"
     ]
    }
   ],
   "source": [
    "print(linked_list.length)"
   ]
  },
  {
   "cell_type": "code",
   "execution_count": 11,
   "id": "2dbc774d",
   "metadata": {},
   "outputs": [],
   "source": [
    "linked_list.reverse()"
   ]
  },
  {
   "cell_type": "code",
   "execution_count": 12,
   "id": "094d74b5",
   "metadata": {},
   "outputs": [
    {
     "name": "stdout",
     "output_type": "stream",
     "text": [
      "5 4 3 2 1 0 \n"
     ]
    }
   ],
   "source": [
    "linked_list.print_list()"
   ]
  },
  {
   "cell_type": "markdown",
   "id": "3fd3507f",
   "metadata": {},
   "source": [
    "# Thinking Process"
   ]
  },
  {
   "cell_type": "markdown",
   "id": "487a1847",
   "metadata": {},
   "source": [
    "## First attempt\n",
    "![First Thinking Process](../img/linked_list/reverse_linked_list_1.jpg)"
   ]
  },
  {
   "cell_type": "markdown",
   "id": "45bd8211",
   "metadata": {},
   "source": [
    "## Fixed attempt (in Red pen)\n",
    "![First Thinking Process](../img/linked_list/reverse_linked_list_2.jpg)"
   ]
  },
  {
   "cell_type": "code",
   "execution_count": null,
   "id": "ed58770f",
   "metadata": {},
   "outputs": [],
   "source": []
  }
 ],
 "metadata": {
  "kernelspec": {
   "display_name": "Python 3 (ipykernel)",
   "language": "python",
   "name": "python3"
  },
  "language_info": {
   "codemirror_mode": {
    "name": "ipython",
    "version": 3
   },
   "file_extension": ".py",
   "mimetype": "text/x-python",
   "name": "python",
   "nbconvert_exporter": "python",
   "pygments_lexer": "ipython3",
   "version": "3.9.12"
  }
 },
 "nbformat": 4,
 "nbformat_minor": 5
}
