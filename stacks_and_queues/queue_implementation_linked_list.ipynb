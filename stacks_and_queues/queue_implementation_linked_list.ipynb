{
 "cells": [
  {
   "cell_type": "code",
   "execution_count": 1,
   "id": "6e574901",
   "metadata": {},
   "outputs": [],
   "source": [
    "class Node():\n",
    "    def __init__(self, data):\n",
    "        self.data = data\n",
    "        self.next = None"
   ]
  },
  {
   "cell_type": "code",
   "execution_count": 28,
   "id": "65933163",
   "metadata": {},
   "outputs": [],
   "source": [
    "class Queue():\n",
    "    def __init__(self):\n",
    "        self.first = None\n",
    "        self.last = None\n",
    "        self.length = 0\n",
    "        \n",
    "    def print_queue(self):\n",
    "        elements = []\n",
    "        if self.first is None:\n",
    "            print(\"Empty.\")\n",
    "            return\n",
    "        current_node = self.first\n",
    "        while current_node is not None:\n",
    "            elements.append(str(current_node.data))\n",
    "            current_node = current_node.next\n",
    "        elements.reverse()\n",
    "        stack_string = '|'.join(elements)\n",
    "        print(\"(Last)\", end= ' ')\n",
    "        print(stack_string, end= ' ')\n",
    "        print(\"(First)\")\n",
    "        return\n",
    "    \n",
    "    def peek(self):\n",
    "        if self.first is None:\n",
    "            print(\"Empty.\")\n",
    "            return\n",
    "        return self.first.data\n",
    "    \n",
    "    def enqueue(self, data):\n",
    "        '''\n",
    "           last  first\n",
    "        1: 0\n",
    "        2: 1|0\n",
    "        3: 2|1|0\n",
    "        '''\n",
    "        new_node = Node(data)\n",
    "        if self.first is None:\n",
    "            self.first = new_node\n",
    "            self.last = self.first\n",
    "            self.length = 1\n",
    "        else:\n",
    "            self.last.next = new_node\n",
    "            self.last = new_node\n",
    "            self.length += 1\n",
    "    \n",
    "    def dequeue(self):\n",
    "        if self.first is None:\n",
    "            print(\"The queue is empty.\")\n",
    "            return\n",
    "        else:\n",
    "            node_to_dequeue = self.first\n",
    "            self.first = self.first.next\n",
    "            if self.first is None:\n",
    "                self.last = self.first\n",
    "            return node_to_dequeue.data\n",
    "            "
   ]
  },
  {
   "cell_type": "code",
   "execution_count": 46,
   "id": "b0f1b689",
   "metadata": {},
   "outputs": [],
   "source": [
    "queue = Queue()"
   ]
  },
  {
   "cell_type": "code",
   "execution_count": 47,
   "id": "9b75505f",
   "metadata": {},
   "outputs": [],
   "source": [
    "for i in range(8):\n",
    "    queue.enqueue(i)"
   ]
  },
  {
   "cell_type": "code",
   "execution_count": 48,
   "id": "177f49fd",
   "metadata": {},
   "outputs": [
    {
     "name": "stdout",
     "output_type": "stream",
     "text": [
      "(Last) 7|6|5|4|3|2|1|0 (First)\n"
     ]
    }
   ],
   "source": [
    "queue.print_queue()"
   ]
  },
  {
   "cell_type": "code",
   "execution_count": 49,
   "id": "76f1c690",
   "metadata": {},
   "outputs": [
    {
     "data": {
      "text/plain": [
       "0"
      ]
     },
     "execution_count": 49,
     "metadata": {},
     "output_type": "execute_result"
    }
   ],
   "source": [
    "queue.peek()"
   ]
  },
  {
   "cell_type": "code",
   "execution_count": 50,
   "id": "7aabd5c9",
   "metadata": {},
   "outputs": [
    {
     "name": "stdout",
     "output_type": "stream",
     "text": [
      "0\n",
      "1\n",
      "2\n",
      "3\n",
      "4\n",
      "5\n",
      "6\n"
     ]
    }
   ],
   "source": [
    "for i in range(7):\n",
    "    print(queue.dequeue())"
   ]
  },
  {
   "cell_type": "code",
   "execution_count": 51,
   "id": "9c3a9310",
   "metadata": {},
   "outputs": [
    {
     "name": "stdout",
     "output_type": "stream",
     "text": [
      "(Last) 7 (First)\n"
     ]
    }
   ],
   "source": [
    "queue.print_queue()"
   ]
  },
  {
   "cell_type": "code",
   "execution_count": 52,
   "id": "0176ce53",
   "metadata": {},
   "outputs": [
    {
     "name": "stdout",
     "output_type": "stream",
     "text": [
      "7\n"
     ]
    }
   ],
   "source": [
    "print(queue.first.data)"
   ]
  },
  {
   "cell_type": "code",
   "execution_count": 53,
   "id": "baf2f190",
   "metadata": {},
   "outputs": [
    {
     "name": "stdout",
     "output_type": "stream",
     "text": [
      "7\n"
     ]
    }
   ],
   "source": [
    "print(queue.last.data)"
   ]
  },
  {
   "cell_type": "code",
   "execution_count": 54,
   "id": "72b5109e",
   "metadata": {},
   "outputs": [
    {
     "data": {
      "text/plain": [
       "7"
      ]
     },
     "execution_count": 54,
     "metadata": {},
     "output_type": "execute_result"
    }
   ],
   "source": [
    "queue.dequeue()"
   ]
  },
  {
   "cell_type": "code",
   "execution_count": 55,
   "id": "ea10eb9f",
   "metadata": {},
   "outputs": [
    {
     "name": "stdout",
     "output_type": "stream",
     "text": [
      "Empty.\n"
     ]
    }
   ],
   "source": [
    "queue.print_queue()"
   ]
  },
  {
   "cell_type": "code",
   "execution_count": 56,
   "id": "3f18f477",
   "metadata": {},
   "outputs": [
    {
     "name": "stdout",
     "output_type": "stream",
     "text": [
      "None\n"
     ]
    }
   ],
   "source": [
    "print(queue.last)"
   ]
  },
  {
   "cell_type": "code",
   "execution_count": 57,
   "id": "654054cf",
   "metadata": {},
   "outputs": [
    {
     "name": "stdout",
     "output_type": "stream",
     "text": [
      "None\n"
     ]
    }
   ],
   "source": [
    "print(queue.first)"
   ]
  },
  {
   "cell_type": "code",
   "execution_count": null,
   "id": "37cba81a",
   "metadata": {},
   "outputs": [],
   "source": []
  }
 ],
 "metadata": {
  "kernelspec": {
   "display_name": "Python 3",
   "language": "python",
   "name": "python3"
  },
  "language_info": {
   "codemirror_mode": {
    "name": "ipython",
    "version": 3
   },
   "file_extension": ".py",
   "mimetype": "text/x-python",
   "name": "python",
   "nbconvert_exporter": "python",
   "pygments_lexer": "ipython3",
   "version": "3.8.8"
  }
 },
 "nbformat": 4,
 "nbformat_minor": 5
}
