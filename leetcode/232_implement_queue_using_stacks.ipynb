{
 "cells": [
  {
   "cell_type": "markdown",
   "id": "49203102",
   "metadata": {},
   "source": [
    "# Question\n",
    "Implement a first in first out (FIFO) queue using only two stacks. The implemented queue should support all the functions of a normal queue (push, peek, pop, and empty)."
   ]
  },
  {
   "cell_type": "code",
   "execution_count": 1,
   "id": "bd160031",
   "metadata": {},
   "outputs": [],
   "source": [
    "class MyQueue:\n",
    "\n",
    "    def __init__(self):\n",
    "        pass\n",
    "\n",
    "    def push(self, x: int) -> None:\n",
    "        pass\n",
    "\n",
    "    def pop(self) -> int:\n",
    "        pass\n",
    "\n",
    "    def peek(self) -> int:\n",
    "        pass\n",
    "\n",
    "    def empty(self) -> bool:\n",
    "        pass\n",
    "\n",
    "# Your MyQueue object will be instantiated and called as such:\n",
    "# obj = MyQueue()\n",
    "# obj.push(x)\n",
    "# param_2 = obj.pop()\n",
    "# param_3 = obj.peek()\n",
    "# param_4 = obj.empty()"
   ]
  },
  {
   "cell_type": "markdown",
   "id": "7457d3f6",
   "metadata": {},
   "source": [
    "- use only standard operations of a stack\n",
    "> Use only two stacks\n",
    "- 1 <= `x` <= 9\n",
    "- At most 100 method calls\n",
    "- All the calls to `pop` and `peek` are vaild"
   ]
  },
  {
   "cell_type": "markdown",
   "id": "5fb0273c",
   "metadata": {},
   "source": [
    "# My Approach\n",
    "- Use `list` as a stack.\n",
    "    - Use `append()` as a `push()`.\n",
    "    - Use `pop()`.\n",
    "- Stack usage\n",
    "    - First stack: data\n",
    "    - Second stack: backup for dequeue (MyQueue.pop()).\n",
    "    \n",
    "![idea](img/252.jpg)\n",
    "\n",
    "## Reference\n",
    "- [Using List as Stacks](https://docs.python.org/3/tutorial/datastructures.html#using-lists-as-stacks)\n",
    "\n",
    "## Code"
   ]
  },
  {
   "cell_type": "code",
   "execution_count": 2,
   "id": "0eeb3b22",
   "metadata": {},
   "outputs": [],
   "source": [
    "class MyQueue:\n",
    "\n",
    "    def __init__(self):\n",
    "        self.storage = []\n",
    "        self.backup = []\n",
    "        \n",
    "    def push(self, x: int) -> None:\n",
    "        \n",
    "        self.storage.append(x)\n",
    "        self.length = len(self.storage)\n",
    "        return\n",
    "\n",
    "    def pop(self) -> int:\n",
    "        \n",
    "        if self.empty():\n",
    "            print(\"The queue is empty.\")\n",
    "            return\n",
    "        \n",
    "        for i in range(len(self.storage)-1):\n",
    "            element = self.storage.pop()\n",
    "            self.backup.append(element)\n",
    "            \n",
    "        first_element = self.storage.pop()  \n",
    "        \n",
    "        for i in range(len(self.backup)):\n",
    "            element = self.backup.pop()\n",
    "            self.storage.append(element)\n",
    "        \n",
    "        return first_element\n",
    "\n",
    "    def peek(self) -> int:\n",
    "        \n",
    "        if self.empty():\n",
    "            print(\"The queue is empty.\")\n",
    "            return\n",
    "        \n",
    "        for i in range(len(self.storage)):\n",
    "            element = self.storage.pop()\n",
    "            self.backup.append(element)\n",
    "            \n",
    "        peeking_element = element\n",
    "        \n",
    "        for i in range(len(self.backup)):\n",
    "            element = self.backup.pop()\n",
    "            self.storage.append(element)\n",
    "            \n",
    "        return peeking_element\n",
    "\n",
    "    def empty(self) -> bool:\n",
    "        if len(self.storage) == 0:\n",
    "            return True\n",
    "        else:\n",
    "            return False\n",
    "\n",
    "# Your MyQueue object will be instantiated and called as such:\n",
    "# obj = MyQueue()\n",
    "# obj.push(x)\n",
    "# param_2 = obj.pop()\n",
    "# param_3 = obj.peek()\n",
    "# param_4 = obj.empty()"
   ]
  },
  {
   "cell_type": "code",
   "execution_count": 3,
   "id": "cb59ce74",
   "metadata": {},
   "outputs": [],
   "source": [
    "my_queue = MyQueue()"
   ]
  },
  {
   "cell_type": "code",
   "execution_count": 4,
   "id": "91c831c5",
   "metadata": {},
   "outputs": [],
   "source": [
    "for i in range(8):\n",
    "    my_queue.push(i)"
   ]
  },
  {
   "cell_type": "code",
   "execution_count": 5,
   "id": "7fb6dfbf",
   "metadata": {
    "scrolled": true
   },
   "outputs": [
    {
     "data": {
      "text/plain": [
       "0"
      ]
     },
     "execution_count": 5,
     "metadata": {},
     "output_type": "execute_result"
    }
   ],
   "source": [
    "my_queue.peek()"
   ]
  },
  {
   "cell_type": "code",
   "execution_count": 6,
   "id": "a08d3565",
   "metadata": {},
   "outputs": [
    {
     "name": "stdout",
     "output_type": "stream",
     "text": [
      "[0, 1, 2, 3, 4, 5, 6, 7]\n",
      "[]\n"
     ]
    }
   ],
   "source": [
    "print(my_queue.storage)\n",
    "print(my_queue.backup)"
   ]
  },
  {
   "cell_type": "code",
   "execution_count": 7,
   "id": "554d1c47",
   "metadata": {},
   "outputs": [],
   "source": [
    "for i in range(8):\n",
    "    my_queue.pop()"
   ]
  },
  {
   "cell_type": "code",
   "execution_count": 8,
   "id": "462f7fcd",
   "metadata": {},
   "outputs": [
    {
     "name": "stdout",
     "output_type": "stream",
     "text": [
      "[]\n",
      "[]\n"
     ]
    }
   ],
   "source": [
    "print(my_queue.storage)\n",
    "print(my_queue.backup)"
   ]
  },
  {
   "cell_type": "code",
   "execution_count": 9,
   "id": "d018d6cd",
   "metadata": {},
   "outputs": [
    {
     "name": "stdout",
     "output_type": "stream",
     "text": [
      "The queue is empty.\n"
     ]
    }
   ],
   "source": [
    "my_queue.pop()"
   ]
  },
  {
   "cell_type": "code",
   "execution_count": null,
   "id": "c65a7655",
   "metadata": {},
   "outputs": [],
   "source": []
  }
 ],
 "metadata": {
  "kernelspec": {
   "display_name": "Python 3",
   "language": "python",
   "name": "python3"
  },
  "language_info": {
   "codemirror_mode": {
    "name": "ipython",
    "version": 3
   },
   "file_extension": ".py",
   "mimetype": "text/x-python",
   "name": "python",
   "nbconvert_exporter": "python",
   "pygments_lexer": "ipython3",
   "version": "3.8.8"
  }
 },
 "nbformat": 4,
 "nbformat_minor": 5
}
