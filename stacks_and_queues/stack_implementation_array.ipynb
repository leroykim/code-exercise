{
 "cells": [
  {
   "cell_type": "code",
   "execution_count": 49,
   "id": "1d01a085",
   "metadata": {},
   "outputs": [],
   "source": [
    "class Stack():\n",
    "    '''\n",
    "    Use array for the implementation.\n",
    "    - [x] peek\n",
    "    - [x] push\n",
    "    - [x] pop\n",
    "    - [x] print_stack\n",
    "    - [x] is_empty\n",
    "    '''\n",
    "    def __init__(self):\n",
    "        self.top = None\n",
    "        self.bottom = None\n",
    "        self.list = []\n",
    "        self.length = 0\n",
    "        \n",
    "    def push(self, data):\n",
    "        '''\n",
    "        Two cases:\n",
    "        - When the stack is empty.\n",
    "        - When the stack is not empty.\n",
    "        Cautions:\n",
    "        - Should take care of the top.\n",
    "        '''\n",
    "        self.list.append(data)\n",
    "        if self.top is None:\n",
    "            self.top = self.list[0]\n",
    "            self.bottom = self.list[0]\n",
    "        else:\n",
    "            self.top = self.list[-1]\n",
    "        self.length = len(self.list)\n",
    "    \n",
    "    def print_stack(self):\n",
    "        if self.top is None:\n",
    "            print(\"Empty.\")\n",
    "            return\n",
    "        self.list.reverse()\n",
    "        stack_string = '\\n--\\n'.join(map(str,self.list))\n",
    "        self.list.reverse()\n",
    "        print(\"(Top)\")\n",
    "        print(stack_string)\n",
    "        print(\"(Bottom)\")\n",
    "        return\n",
    "    \n",
    "    def peek(self):\n",
    "        if self.top is None:\n",
    "            print(\"Empty.\")\n",
    "            return\n",
    "        return self.list[-1]\n",
    "            \n",
    "    def pop(self):\n",
    "        '''\n",
    "        Two cases:\n",
    "        - When the stack is empty.\n",
    "        - When the stack is not empty.\n",
    "        Cautions:\n",
    "        - Take care of the case when the stack becomes empty.\n",
    "        '''\n",
    "        if self.top is None:\n",
    "            print(\"The stack is empty.\")\n",
    "        elif self.length == 1:\n",
    "            value_to_pop = self.list[0]\n",
    "            del self.list[0]\n",
    "            self.top = None\n",
    "            self.bottom = None\n",
    "            self.length = 0\n",
    "            return value_to_pop\n",
    "        else:\n",
    "            value_to_pop = self.list[-1]\n",
    "            del self.list[-1]\n",
    "            self.top = self.list[-1]\n",
    "            self.length = len(self.list)\n",
    "            return value_to_pop"
   ]
  },
  {
   "cell_type": "code",
   "execution_count": 60,
   "id": "a431b3a6",
   "metadata": {},
   "outputs": [],
   "source": [
    "stack = Stack()"
   ]
  },
  {
   "cell_type": "code",
   "execution_count": 61,
   "id": "00f9d045",
   "metadata": {},
   "outputs": [],
   "source": [
    "for i in range(7):\n",
    "    stack.push(i)"
   ]
  },
  {
   "cell_type": "code",
   "execution_count": 62,
   "id": "1180ed6d",
   "metadata": {
    "scrolled": true
   },
   "outputs": [
    {
     "name": "stdout",
     "output_type": "stream",
     "text": [
      "(Top)\n",
      "6\n",
      "--\n",
      "5\n",
      "--\n",
      "4\n",
      "--\n",
      "3\n",
      "--\n",
      "2\n",
      "--\n",
      "1\n",
      "--\n",
      "0\n",
      "(Bottom)\n"
     ]
    }
   ],
   "source": [
    "stack.print_stack()"
   ]
  },
  {
   "cell_type": "code",
   "execution_count": 63,
   "id": "46edc187",
   "metadata": {},
   "outputs": [
    {
     "data": {
      "text/plain": [
       "6"
      ]
     },
     "execution_count": 63,
     "metadata": {},
     "output_type": "execute_result"
    }
   ],
   "source": [
    "stack.peek()"
   ]
  },
  {
   "cell_type": "code",
   "execution_count": 64,
   "id": "2f76b1ee",
   "metadata": {},
   "outputs": [
    {
     "name": "stdout",
     "output_type": "stream",
     "text": [
      "6 popped.\n",
      "5 popped.\n",
      "4 popped.\n",
      "3 popped.\n",
      "2 popped.\n",
      "1 popped.\n"
     ]
    }
   ],
   "source": [
    "for i in range(6):\n",
    "    print(f\"{stack.pop()} popped.\")"
   ]
  },
  {
   "cell_type": "code",
   "execution_count": 65,
   "id": "26c75166",
   "metadata": {},
   "outputs": [
    {
     "name": "stdout",
     "output_type": "stream",
     "text": [
      "(Top)\n",
      "0\n",
      "(Bottom)\n"
     ]
    }
   ],
   "source": [
    "stack.print_stack()"
   ]
  },
  {
   "cell_type": "code",
   "execution_count": 66,
   "id": "798648b9",
   "metadata": {},
   "outputs": [
    {
     "name": "stdout",
     "output_type": "stream",
     "text": [
      "0\n",
      "0\n"
     ]
    }
   ],
   "source": [
    "print(stack.top)\n",
    "print(stack.bottom)"
   ]
  },
  {
   "cell_type": "code",
   "execution_count": 67,
   "id": "374f9c02",
   "metadata": {},
   "outputs": [
    {
     "data": {
      "text/plain": [
       "0"
      ]
     },
     "execution_count": 67,
     "metadata": {},
     "output_type": "execute_result"
    }
   ],
   "source": [
    "stack.pop()"
   ]
  },
  {
   "cell_type": "code",
   "execution_count": 68,
   "id": "f8031443",
   "metadata": {},
   "outputs": [
    {
     "name": "stdout",
     "output_type": "stream",
     "text": [
      "None\n",
      "None\n"
     ]
    }
   ],
   "source": [
    "print(stack.top)\n",
    "print(stack.bottom)"
   ]
  },
  {
   "cell_type": "code",
   "execution_count": null,
   "id": "39bbffd1",
   "metadata": {},
   "outputs": [],
   "source": []
  }
 ],
 "metadata": {
  "kernelspec": {
   "display_name": "Python 3 (ipykernel)",
   "language": "python",
   "name": "python3"
  },
  "language_info": {
   "codemirror_mode": {
    "name": "ipython",
    "version": 3
   },
   "file_extension": ".py",
   "mimetype": "text/x-python",
   "name": "python",
   "nbconvert_exporter": "python",
   "pygments_lexer": "ipython3",
   "version": "3.9.12"
  }
 },
 "nbformat": 4,
 "nbformat_minor": 5
}
