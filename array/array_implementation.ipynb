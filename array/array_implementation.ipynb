{
 "cells": [
  {
   "cell_type": "markdown",
   "id": "63c00b01",
   "metadata": {},
   "source": [
    "# Implementing Array"
   ]
  },
  {
   "cell_type": "code",
   "execution_count": 27,
   "id": "96b33016",
   "metadata": {},
   "outputs": [],
   "source": [
    "class MyArray():\n",
    "    def __init__(self):\n",
    "        self.length = 0\n",
    "        self.data = {} # empty dictionary\n",
    "    \n",
    "    # The attributes of the array class are stored in a dictionary by default.\n",
    "    \n",
    "    # When the __dict__ method is called on an instance of the class \n",
    "    # it returns the attributes of the class along with their values in a dictionary format\n",
    "    \n",
    "    # Now, when the instance of the class is printed, it returns a class object with its location in memory.\n",
    "    # But we know when we print the array we get the elements of the array as output\n",
    "    # When we print the instance of the class, the built-in __str__ method is called. \n",
    "    # So we can modify the __str__ method inside the class to suit our needs.\n",
    "    def __str__(self):\n",
    "        return str(self.__dict__)\n",
    "    \n",
    "    def get(self, index):\n",
    "        # O(1)\n",
    "        return self.data[index]\n",
    "    \n",
    "    def push(self, item):\n",
    "        # O(1)\n",
    "        self.length += 1\n",
    "        self.data[self.length -1] = item\n",
    "        return self.length\n",
    "    \n",
    "    def pop(self):\n",
    "        # O(1)\n",
    "        last_item = self.data[self.length -1]\n",
    "        del self.data[self.length -1]\n",
    "        self.length -= 1\n",
    "        return last_item\n",
    "    \n",
    "    def insert(self, index, item):\n",
    "        # O(n)\n",
    "        self.length += 1\n",
    "        for i in range(self.length-1, index, -1):\n",
    "            self.data = self.data[i-1]\n",
    "        self.data[index] = item\n",
    "    \n",
    "    def delete(self, index):\n",
    "        # O(n)\n",
    "        for i in range(index, self.length-1):\n",
    "            self.data[i] = self.data[i+1]\n",
    "        del self.data[self.length -1]\n",
    "        self.length -= 1"
   ]
  },
  {
   "cell_type": "markdown",
   "id": "d23a8147",
   "metadata": {},
   "source": [
    "## More on insert method"
   ]
  },
  {
   "cell_type": "code",
   "execution_count": 28,
   "id": "3634ff51",
   "metadata": {
    "scrolled": true
   },
   "outputs": [
    {
     "name": "stdout",
     "output_type": "stream",
     "text": [
      "17\n",
      "16\n",
      "15\n",
      "14\n",
      "13\n",
      "12\n",
      "11\n"
     ]
    }
   ],
   "source": [
    "for i in range(17,10,-1):\n",
    "    print(i)"
   ]
  },
  {
   "cell_type": "markdown",
   "id": "25de16c0",
   "metadata": {},
   "source": [
    "## More on last elememt"
   ]
  },
  {
   "cell_type": "markdown",
   "id": "f46bd7c5",
   "metadata": {},
   "source": [
    "We can access the last element like below, but in this case, we use `dictionary`, so we have to use `length-1` way to represent `key`."
   ]
  },
  {
   "cell_type": "code",
   "execution_count": 22,
   "id": "b84c1f22",
   "metadata": {},
   "outputs": [],
   "source": [
    "test_array = [1,2,3,4,5,6,7,8,9,0]"
   ]
  },
  {
   "cell_type": "code",
   "execution_count": 23,
   "id": "8459d324",
   "metadata": {},
   "outputs": [
    {
     "data": {
      "text/plain": [
       "0"
      ]
     },
     "execution_count": 23,
     "metadata": {},
     "output_type": "execute_result"
    }
   ],
   "source": [
    "test_array[-1]"
   ]
  },
  {
   "cell_type": "code",
   "execution_count": 24,
   "id": "19213ffb",
   "metadata": {},
   "outputs": [],
   "source": [
    "del test_array[-1]"
   ]
  },
  {
   "cell_type": "code",
   "execution_count": 25,
   "id": "5c4a7763",
   "metadata": {},
   "outputs": [
    {
     "data": {
      "text/plain": [
       "[1, 2, 3, 4, 5, 6, 7, 8, 9]"
      ]
     },
     "execution_count": 25,
     "metadata": {},
     "output_type": "execute_result"
    }
   ],
   "source": [
    "test_array"
   ]
  },
  {
   "cell_type": "markdown",
   "id": "59b86e69",
   "metadata": {},
   "source": [
    "## Test"
   ]
  },
  {
   "cell_type": "code",
   "execution_count": 41,
   "id": "823542da",
   "metadata": {},
   "outputs": [],
   "source": [
    "arr = MyArray()"
   ]
  },
  {
   "cell_type": "code",
   "execution_count": 42,
   "id": "3da1f5a7",
   "metadata": {},
   "outputs": [
    {
     "data": {
      "text/plain": [
       "1"
      ]
     },
     "execution_count": 42,
     "metadata": {},
     "output_type": "execute_result"
    }
   ],
   "source": [
    "arr.push('hi')"
   ]
  },
  {
   "cell_type": "code",
   "execution_count": 43,
   "id": "72b19759",
   "metadata": {},
   "outputs": [
    {
     "data": {
      "text/plain": [
       "2"
      ]
     },
     "execution_count": 43,
     "metadata": {},
     "output_type": "execute_result"
    }
   ],
   "source": [
    "arr.push('you')"
   ]
  },
  {
   "cell_type": "code",
   "execution_count": 44,
   "id": "3dbee0fc",
   "metadata": {},
   "outputs": [
    {
     "data": {
      "text/plain": [
       "3"
      ]
     },
     "execution_count": 44,
     "metadata": {},
     "output_type": "execute_result"
    }
   ],
   "source": [
    "arr.push('!')"
   ]
  },
  {
   "cell_type": "code",
   "execution_count": 45,
   "id": "9a1374cf",
   "metadata": {},
   "outputs": [],
   "source": [
    "#arr.pop()"
   ]
  },
  {
   "cell_type": "code",
   "execution_count": 46,
   "id": "10f7a293",
   "metadata": {},
   "outputs": [],
   "source": [
    "#arr.pop()"
   ]
  },
  {
   "cell_type": "code",
   "execution_count": 47,
   "id": "13c2432d",
   "metadata": {},
   "outputs": [],
   "source": [
    "arr.delete(0)"
   ]
  },
  {
   "cell_type": "code",
   "execution_count": 48,
   "id": "170a997f",
   "metadata": {},
   "outputs": [
    {
     "name": "stdout",
     "output_type": "stream",
     "text": [
      "{'length': 2, 'data': {0: 'you', 1: '!'}}\n"
     ]
    }
   ],
   "source": [
    "print(arr)"
   ]
  },
  {
   "cell_type": "code",
   "execution_count": 49,
   "id": "59b737f0",
   "metadata": {},
   "outputs": [
    {
     "data": {
      "text/plain": [
       "4"
      ]
     },
     "execution_count": 49,
     "metadata": {},
     "output_type": "execute_result"
    }
   ],
   "source": [
    "arr.push('are')\n",
    "arr.push('nice')"
   ]
  },
  {
   "cell_type": "code",
   "execution_count": 50,
   "id": "46bb83a5",
   "metadata": {},
   "outputs": [],
   "source": [
    "arr.delete(1)"
   ]
  },
  {
   "cell_type": "code",
   "execution_count": 51,
   "id": "36f711e4",
   "metadata": {},
   "outputs": [
    {
     "name": "stdout",
     "output_type": "stream",
     "text": [
      "{'length': 3, 'data': {0: 'you', 1: 'are', 2: 'nice'}}\n"
     ]
    }
   ],
   "source": [
    "print(arr)"
   ]
  },
  {
   "cell_type": "code",
   "execution_count": null,
   "id": "c997d66e",
   "metadata": {},
   "outputs": [],
   "source": []
  }
 ],
 "metadata": {
  "kernelspec": {
   "display_name": "Python 3 (ipykernel)",
   "language": "python",
   "name": "python3"
  },
  "language_info": {
   "codemirror_mode": {
    "name": "ipython",
    "version": 3
   },
   "file_extension": ".py",
   "mimetype": "text/x-python",
   "name": "python",
   "nbconvert_exporter": "python",
   "pygments_lexer": "ipython3",
   "version": "3.9.12"
  }
 },
 "nbformat": 4,
 "nbformat_minor": 5
}
